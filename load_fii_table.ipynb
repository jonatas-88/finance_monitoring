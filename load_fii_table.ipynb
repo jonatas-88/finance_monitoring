{
 "cells": [
  {
   "cell_type": "code",
   "execution_count": null,
   "metadata": {},
   "outputs": [],
   "source": [
    "import pandas as pd\n",
    "import requests\n",
    "#import html5lib\n",
    "\n",
    "header = {\n",
    "  \"User-Agent\": \"Mozilla/5.0 (X11; Linux x86_64) AppleWebKit/537.36 (KHTML, like Gecko) Chrome/50.0.2661.75 Safari/537.36\",\n",
    "  \"X-Requested-With\": \"XMLHttpRequest\"\n",
    "}\n"
   ]
  },
  {
   "cell_type": "code",
   "execution_count": null,
   "metadata": {},
   "outputs": [],
   "source": [
    "#READ TABLE FROM URL\n",
    "\n",
    "url = 'https://www.fundsexplorer.com.br/ranking'\n",
    "\n",
    "r = requests.get(url, headers=header)\n",
    "\n",
    "df_fii = pd.read_html(r.text)[0]\n",
    "\n",
    "df_fii"
   ]
  },
  {
   "cell_type": "code",
   "execution_count": null,
   "metadata": {},
   "outputs": [],
   "source": [
    "#table_fii aba\n",
    "#info_fii planilha"
   ]
  },
  {
   "cell_type": "code",
   "execution_count": null,
   "metadata": {},
   "outputs": [],
   "source": [
    "import gspread\n",
    "from gspread_dataframe import set_with_dataframe\n",
    "\n",
    "gc = gspread.service_account(filename='sheets-automation-360716-9daeedee7590.json')\n",
    "\n",
    "wks = gc.open('info_finance')\n",
    "\n",
    "#UPDATE FII TABLE\n",
    "wk = wks.worksheet('table_fii')\n",
    "\n",
    "wk.clear()\n",
    "\n",
    "#wks.worksheet('table_fii').update([df_fii.columns.values.tolist()] + df_fii.values.astype(str).tolist())\n",
    "\n",
    "set_with_dataframe(wk, df_fii)"
   ]
  },
  {
   "cell_type": "code",
   "execution_count": null,
   "metadata": {},
   "outputs": [],
   "source": [
    "\n",
    "\n",
    "\n",
    "\n"
   ]
  }
 ],
 "metadata": {
  "kernelspec": {
   "display_name": "Python 3.9.13 ('base')",
   "language": "python",
   "name": "python3"
  },
  "language_info": {
   "codemirror_mode": {
    "name": "ipython",
    "version": 3
   },
   "file_extension": ".py",
   "mimetype": "text/x-python",
   "name": "python",
   "nbconvert_exporter": "python",
   "pygments_lexer": "ipython3",
   "version": "3.9.13"
  },
  "orig_nbformat": 4,
  "vscode": {
   "interpreter": {
    "hash": "0dcada5a056d2e9047555b54603c432568229c7d32d7d0ecd78b6088269c1d79"
   }
  }
 },
 "nbformat": 4,
 "nbformat_minor": 2
}
