{
 "cells": [
  {
   "cell_type": "code",
   "execution_count": null,
   "metadata": {},
   "outputs": [],
   "source": [
    "import pandas as pd\n",
    "import requests\n",
    "import time\n",
    "import datetime\n",
    "#import html5lib\n",
    "\n",
    "header = {\n",
    "  \"User-Agent\": \"Mozilla/5.0 (X11; Linux x86_64) AppleWebKit/537.36 (KHTML, like Gecko) Chrome/50.0.2661.75 Safari/537.36\",\n",
    "  \"X-Requested-With\": \"XMLHttpRequest\"\n",
    "}\n"
   ]
  },
  {
   "cell_type": "code",
   "execution_count": null,
   "metadata": {},
   "outputs": [],
   "source": [
    "#CREATE DATAFRAME FOR TIME REGISTRATION\n",
    "df_date_info = pd.DataFrame(columns=['info','date','status'])"
   ]
  },
  {
   "cell_type": "code",
   "execution_count": null,
   "metadata": {},
   "outputs": [],
   "source": [
    "#READ TABLE FROM URL RELATED TO FII INFORMATION\n",
    "\n",
    "url = 'https://www.fundsexplorer.com.br/ranking'\n",
    "\n",
    "try:\n",
    "    df_date_info = pd.concat([df_date_info, pd.DataFrame.from_dict({'info': ['FII TABLE'], 'date': [datetime.datetime.utcnow().strftime(\"%Y-%m-%d %H:%M:%S\")],'status':['SUCCESS']}, orient='columns')], axis=0, ignore_index=True)\n",
    "    r = requests.get(url, headers=header)\n",
    "    df_fii = pd.read_html(r.text)[0]\n",
    "    print('FII TABLE LOADED')\n",
    "except:\n",
    "    df_date_info = pd.concat([df_date_info, pd.DataFrame.from_dict({'info': ['FII TABLE'], 'date': [datetime.datetime.utcnow().strftime(\"%Y-%m-%d %H:%M:%S\")],'status':['ERROR']}, orient='columns')], axis=0, ignore_index=True)\n",
    "    print(\"Error on FII TABLE\")\n",
    "\n"
   ]
  },
  {
   "cell_type": "code",
   "execution_count": null,
   "metadata": {},
   "outputs": [],
   "source": [
    "import gspread\n",
    "from gspread_dataframe import set_with_dataframe\n",
    "\n",
    "gc = gspread.service_account(filename='sheets-automation-360716-9daeedee7590.json')\n",
    "\n",
    "wks = gc.open('info_finance')\n",
    "\n",
    "#UPDATE FII TABLE\n",
    "wk_fii = wks.worksheet('table_fii')\n",
    "\n",
    "wk_fii.clear()\n",
    "\n",
    "#wks.worksheet('table_fii').update([df_fii.columns.values.tolist()] + df_fii.values.astype(str).tolist())\n",
    "\n",
    "set_with_dataframe(wk_fii, df_fii)"
   ]
  },
  {
   "cell_type": "code",
   "execution_count": null,
   "metadata": {},
   "outputs": [],
   "source": [
    "#UPDATE DATE INFO\n",
    "wk_date_info = wks.worksheet('date_info')\n",
    "\n",
    "wk_date_info.clear()\n",
    "\n",
    "set_with_dataframe(wk_date_info, df_date_info)"
   ]
  },
  {
   "cell_type": "code",
   "execution_count": null,
   "metadata": {},
   "outputs": [],
   "source": [
    "df_fii"
   ]
  },
  {
   "cell_type": "code",
   "execution_count": null,
   "metadata": {},
   "outputs": [],
   "source": [
    "\n",
    "df_date_info"
   ]
  }
 ],
 "metadata": {
  "kernelspec": {
   "display_name": "Python 3.9.13 ('base')",
   "language": "python",
   "name": "python3"
  },
  "language_info": {
   "codemirror_mode": {
    "name": "ipython",
    "version": 3
   },
   "file_extension": ".py",
   "mimetype": "text/x-python",
   "name": "python",
   "nbconvert_exporter": "python",
   "pygments_lexer": "ipython3",
   "version": "3.9.13"
  },
  "orig_nbformat": 4,
  "vscode": {
   "interpreter": {
    "hash": "0dcada5a056d2e9047555b54603c432568229c7d32d7d0ecd78b6088269c1d79"
   }
  }
 },
 "nbformat": 4,
 "nbformat_minor": 2
}
